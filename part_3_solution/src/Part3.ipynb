{
 "cells": [
  {
   "cell_type": "code",
   "execution_count": 25,
   "metadata": {},
   "outputs": [],
   "source": [
    "import pandas as pd\n",
    "import requests\n",
    "import json"
   ]
  },
  {
   "cell_type": "code",
   "execution_count": 26,
   "metadata": {},
   "outputs": [],
   "source": [
    "url='https://datausa.io/api/data?drilldowns=Nation&measures=Population'\n",
    "\n",
    "response=requests.get(url)\n",
    "resp = response.json()"
   ]
  },
  {
   "cell_type": "code",
   "execution_count": 27,
   "metadata": {},
   "outputs": [
    {
     "name": "stderr",
     "output_type": "stream",
     "text": [
      "/var/folders/73/sx2ckpk51wq6mwnd_yyl1q7m0000gn/T/ipykernel_39049/3626867006.py:1: FutureWarning: Passing literal json to 'read_json' is deprecated and will be removed in a future version. To read from a literal string, wrap it in a 'StringIO' object.\n",
      "  df = pd.read_json(json.dumps(resp['data']))\n"
     ]
    },
    {
     "data": {
      "text/plain": [
       "0    2021\n",
       "1    2020\n",
       "2    2019\n",
       "3    2018\n",
       "4    2017\n",
       "5    2016\n",
       "6    2015\n",
       "7    2014\n",
       "8    2013\n",
       "Name: Year, dtype: int64"
      ]
     },
     "execution_count": 27,
     "metadata": {},
     "output_type": "execute_result"
    }
   ],
   "source": [
    "df = pd.read_json(json.dumps(resp['data']))\n",
    "df['Year'].astype(int)"
   ]
  },
  {
   "cell_type": "code",
   "execution_count": 28,
   "metadata": {},
   "outputs": [
    {
     "name": "stdout",
     "output_type": "stream",
     "text": [
      "317437383.0\n",
      "4257089.5415293295\n",
      "  ID Nation         Nation  ID Year  Year  Population    Slug Nation\n",
      "0   01000US  United States     2021  2021   329725481  united-states\n",
      "1   01000US  United States     2020  2020   326569308  united-states\n",
      "2   01000US  United States     2019  2019   324697795  united-states\n",
      "3   01000US  United States     2018  2018   322903030  united-states\n",
      "4   01000US  United States     2017  2017   321004407  united-states\n",
      "5   01000US  United States     2016  2016   318558162  united-states\n",
      "6   01000US  United States     2015  2015   316515021  united-states\n",
      "7   01000US  United States     2014  2014   314107084  united-states\n",
      "8   01000US  United States     2013  2013   311536594  united-states\n"
     ]
    }
   ],
   "source": [
    "print(df.loc[((df['Year']>=2013) & (df['Year']<=2018)), 'Population'].mean())\n",
    "print(df.loc[((df['Year']>=2013) & (df['Year']<=2018)), 'Population'].std())\n",
    "print(df)"
   ]
  },
  {
   "cell_type": "code",
   "execution_count": 29,
   "metadata": {},
   "outputs": [],
   "source": [
    "Series_data='https://zombalifeiscool.s3.amazonaws.com/pr.data.0.Current'\n",
    "series = pd.read_csv(Series_data, delimiter=\"\\t\")\n",
    "series.rename(columns={\"series_id        \":\"series_id\",\"       value\":'value'},inplace=True)\n",
    "temp_series=series"
   ]
  },
  {
   "cell_type": "code",
   "execution_count": 30,
   "metadata": {},
   "outputs": [
    {
     "name": "stdout",
     "output_type": "stream",
     "text": [
      "              series_id  year    value\n",
      "27    PRS30006011        2022   21.400\n",
      "56    PRS30006012        2022   17.600\n",
      "61    PRS30006013        1998  733.348\n",
      "102   PRS30006021        2010   17.700\n",
      "131   PRS30006022        2010   12.500\n",
      "...                 ...   ...      ...\n",
      "7950  PRS88003192        2002  285.200\n",
      "7999  PRS88003193        2022  701.185\n",
      "8028  PRS88003201        2022   46.600\n",
      "8057  PRS88003202        2022   39.700\n",
      "8086  PRS88003203        2022  634.534\n",
      "\n",
      "[282 rows x 3 columns]\n"
     ]
    }
   ],
   "source": [
    "series = series.groupby([\"series_id\", \"year\"], as_index=False)[\"value\"].agg(\"sum\")\n",
    "series.sort_values(by='value',ascending=False,inplace=True)\n",
    "series.drop_duplicates(subset=['series_id'],inplace=True)\n",
    "series.sort_values(by='series_id',inplace=True)\n",
    "print(series)"
   ]
  },
  {
   "cell_type": "code",
   "execution_count": 32,
   "metadata": {},
   "outputs": [
    {
     "name": "stdout",
     "output_type": "stream",
     "text": [
      "            series_id  year period  value footnote_codes ID Nation  \\\n",
      "0   PRS30006032        1995    Q01    0.0            NaN       NaN   \n",
      "1   PRS30006032        1996    Q01   -4.4            NaN       NaN   \n",
      "2   PRS30006032        1997    Q01    2.7            NaN       NaN   \n",
      "3   PRS30006032        1998    Q01    1.0            NaN       NaN   \n",
      "4   PRS30006032        1999    Q01   -4.1            NaN       NaN   \n",
      "5   PRS30006032        2000    Q01    0.1            NaN       NaN   \n",
      "6   PRS30006032        2001    Q01   -6.0            NaN       NaN   \n",
      "7   PRS30006032        2002    Q01   -7.0            NaN       NaN   \n",
      "8   PRS30006032        2003    Q01   -5.7            NaN       NaN   \n",
      "9   PRS30006032        2004    Q01    2.4            NaN       NaN   \n",
      "10  PRS30006032        2005    Q01   -1.1            NaN       NaN   \n",
      "11  PRS30006032        2006    Q01    2.8            NaN       NaN   \n",
      "12  PRS30006032        2007    Q01   -0.3            NaN       NaN   \n",
      "13  PRS30006032        2008    Q01   -3.4            NaN       NaN   \n",
      "14  PRS30006032        2009    Q01  -20.7            NaN       NaN   \n",
      "15  PRS30006032        2010    Q01    3.5            NaN       NaN   \n",
      "16  PRS30006032        2011    Q01    1.6            NaN       NaN   \n",
      "17  PRS30006032        2012    Q01    3.0            NaN       NaN   \n",
      "18  PRS30006032        2013    Q01    1.2            NaN   01000US   \n",
      "19  PRS30006032        2014    Q01    0.0            NaN   01000US   \n",
      "20  PRS30006032        2015    Q01   -1.7            NaN   01000US   \n",
      "21  PRS30006032        2016    Q01   -1.8            NaN   01000US   \n",
      "22  PRS30006032        2017    Q01    1.0            NaN   01000US   \n",
      "23  PRS30006032        2018    Q01   -0.1            NaN   01000US   \n",
      "24  PRS30006032        2019    Q01   -2.4            NaN   01000US   \n",
      "25  PRS30006032        2020    Q01   -6.5            NaN   01000US   \n",
      "26  PRS30006032        2021    Q01    1.3            NaN   01000US   \n",
      "27  PRS30006032        2022    Q01    7.3            NaN       NaN   \n",
      "28  PRS30006032        2023    Q01    1.5            NaN       NaN   \n",
      "\n",
      "           Nation  ID Year    Year   Population    Slug Nation  \n",
      "0             NaN      NaN     NaN          NaN            NaN  \n",
      "1             NaN      NaN     NaN          NaN            NaN  \n",
      "2             NaN      NaN     NaN          NaN            NaN  \n",
      "3             NaN      NaN     NaN          NaN            NaN  \n",
      "4             NaN      NaN     NaN          NaN            NaN  \n",
      "5             NaN      NaN     NaN          NaN            NaN  \n",
      "6             NaN      NaN     NaN          NaN            NaN  \n",
      "7             NaN      NaN     NaN          NaN            NaN  \n",
      "8             NaN      NaN     NaN          NaN            NaN  \n",
      "9             NaN      NaN     NaN          NaN            NaN  \n",
      "10            NaN      NaN     NaN          NaN            NaN  \n",
      "11            NaN      NaN     NaN          NaN            NaN  \n",
      "12            NaN      NaN     NaN          NaN            NaN  \n",
      "13            NaN      NaN     NaN          NaN            NaN  \n",
      "14            NaN      NaN     NaN          NaN            NaN  \n",
      "15            NaN      NaN     NaN          NaN            NaN  \n",
      "16            NaN      NaN     NaN          NaN            NaN  \n",
      "17            NaN      NaN     NaN          NaN            NaN  \n",
      "18  United States   2013.0  2013.0  311536594.0  united-states  \n",
      "19  United States   2014.0  2014.0  314107084.0  united-states  \n",
      "20  United States   2015.0  2015.0  316515021.0  united-states  \n",
      "21  United States   2016.0  2016.0  318558162.0  united-states  \n",
      "22  United States   2017.0  2017.0  321004407.0  united-states  \n",
      "23  United States   2018.0  2018.0  322903030.0  united-states  \n",
      "24  United States   2019.0  2019.0  324697795.0  united-states  \n",
      "25  United States   2020.0  2020.0  326569308.0  united-states  \n",
      "26  United States   2021.0  2021.0  329725481.0  united-states  \n",
      "27            NaN      NaN     NaN          NaN            NaN  \n",
      "28            NaN      NaN     NaN          NaN            NaN  \n"
     ]
    }
   ],
   "source": [
    "temp_series = temp_series.loc[temp_series[\"series_id\"].str.contains(\"PRS30006032\", case=False)]\n",
    "temp_series = temp_series[temp_series[\"period\"].str.contains(\"Q01\", case=False)]\n",
    "\n",
    "population_temp=df[\"Population\"].astype(int)\n",
    "df[\"Year\"] = df[\"Year\"].astype(int)\n",
    "\n",
    "result = pd.merge(temp_series, df, left_on=\"year\", right_on=\"Year\", how=\"left\")\n",
    "result[[\"series_id\", \"year\", \"period\", \"value\", \"Population\"]]\n",
    "\n",
    "print(result)"
   ]
  }
 ],
 "metadata": {
  "kernelspec": {
   "display_name": "Python 3",
   "language": "python",
   "name": "python3"
  },
  "language_info": {
   "codemirror_mode": {
    "name": "ipython",
    "version": 3
   },
   "file_extension": ".py",
   "mimetype": "text/x-python",
   "name": "python",
   "nbconvert_exporter": "python",
   "pygments_lexer": "ipython3",
   "version": "3.9.0"
  }
 },
 "nbformat": 4,
 "nbformat_minor": 2
}
